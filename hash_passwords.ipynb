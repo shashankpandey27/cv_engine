{
 "cells": [
  {
   "cell_type": "code",
   "execution_count": null,
   "id": "37c66a60",
   "metadata": {},
   "outputs": [],
   "source": [
    "#pip install streamlit-authenticator~=0.3.3"
   ]
  },
  {
   "cell_type": "code",
   "execution_count": 6,
   "id": "3230b448",
   "metadata": {},
   "outputs": [
    {
     "name": "stdout",
     "output_type": "stream",
     "text": [
      "Hashed Password: $2b$12$2BkF4QSZfcw4QptaAQgc7udsFTmWUA9nwIfm.8uUEzSnLCHgbZbe6\n"
     ]
    }
   ],
   "source": [
    "import bcrypt\n",
    "\n",
    "def hash_password(password):\n",
    "    salt = bcrypt.gensalt()\n",
    "    return bcrypt.hashpw(password.encode('utf-8'), salt).decode('utf-8')\n",
    "\n",
    "# Generate hashed password\n",
    "new_password = \"litani123\"  # Change this to the actual password\n",
    "hashed_password = hash_password(new_password)\n",
    "\n",
    "print(f\"Hashed Password: {hashed_password}\")\n"
   ]
  }
 ],
 "metadata": {
  "kernelspec": {
   "display_name": ".venv",
   "language": "python",
   "name": "python3"
  },
  "language_info": {
   "codemirror_mode": {
    "name": "ipython",
    "version": 3
   },
   "file_extension": ".py",
   "mimetype": "text/x-python",
   "name": "python",
   "nbconvert_exporter": "python",
   "pygments_lexer": "ipython3",
   "version": "3.12.0"
  }
 },
 "nbformat": 4,
 "nbformat_minor": 5
}
